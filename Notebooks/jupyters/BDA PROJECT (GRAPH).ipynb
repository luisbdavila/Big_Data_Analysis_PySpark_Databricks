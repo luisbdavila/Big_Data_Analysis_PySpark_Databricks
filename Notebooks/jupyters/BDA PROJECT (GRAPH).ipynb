{
 "cells": [
  {
   "cell_type": "markdown",
   "metadata": {
    "application/vnd.databricks.v1+cell": {
     "cellMetadata": {
      "byteLimit": 2048000,
      "rowLimit": 10000
     },
     "inputWidgets": {},
     "nuid": "2b1395dd-bc83-4364-b613-7cab100b0492",
     "showTitle": false,
     "tableResultSettingsMap": {},
     "title": ""
    }
   },
   "source": [
    "## BIG DATA ANALYSIS Project 2024 (Graph Analytics) "
   ]
  },
  {
   "cell_type": "markdown",
   "metadata": {
    "application/vnd.databricks.v1+cell": {
     "cellMetadata": {
      "byteLimit": 2048000,
      "rowLimit": 10000
     },
     "inputWidgets": {},
     "nuid": "e186c7ef-3c48-4ed9-9522-f8762385b79a",
     "showTitle": false,
     "tableResultSettingsMap": {},
     "title": ""
    }
   },
   "source": [
    "Group: \n",
    "\n",
    "- Dinis Fernandes 20221848\n",
    "- Dinis Gaspar 20221869\n",
    "- Inês Santos 20221916\n",
    "- Luis Davila 20221949\n",
    "- Sara Ferrer 20221947"
   ]
  },
  {
   "cell_type": "markdown",
   "metadata": {
    "application/vnd.databricks.v1+cell": {
     "cellMetadata": {
      "byteLimit": 2048000,
      "rowLimit": 10000
     },
     "inputWidgets": {},
     "nuid": "349b3cb3-cc24-49a0-9087-3a7048bdb375",
     "showTitle": false,
     "tableResultSettingsMap": {},
     "title": ""
    }
   },
   "source": [
    "## Yellow taxi movements during the most crowded month in NYC (December) in 2023.\n",
    "We will perform an analysis of NYC yellow taxi movements during December."
   ]
  },
  {
   "cell_type": "markdown",
   "metadata": {
    "application/vnd.databricks.v1+cell": {
     "cellMetadata": {
      "byteLimit": 2048000,
      "rowLimit": 10000
     },
     "inputWidgets": {},
     "nuid": "0761b063-20dd-4a6a-a293-d3a0be74fbb8",
     "showTitle": false,
     "tableResultSettingsMap": {},
     "title": ""
    }
   },
   "source": [
    "## Goals\n",
    "-Identify Popular and important Locations:\n",
    "- For the whole Month, in general.\n",
    "- For Christmas day.\n",
    "- For New Year's eve.\n",
    "\n",
    "-Most common Trip paths.\n",
    "\n",
    "\n",
    "-Optimize Taxi Distribution (Areas with high degree centrality indicate regions requiring more taxi).\n",
    "\n",
    "-Identify Communities and Human patterns."
   ]
  },
  {
   "cell_type": "markdown",
   "metadata": {
    "application/vnd.databricks.v1+cell": {
     "cellMetadata": {
      "byteLimit": 2048000,
      "rowLimit": 10000
     },
     "inputWidgets": {},
     "nuid": "b7f6a291-82f0-4b8f-89c4-91ee181afe63",
     "showTitle": false,
     "tableResultSettingsMap": {},
     "title": ""
    }
   },
   "source": [
    "##IMPORTS"
   ]
  },
  {
   "cell_type": "code",
   "execution_count": 0,
   "metadata": {
    "application/vnd.databricks.v1+cell": {
     "cellMetadata": {
      "byteLimit": 2048000,
      "rowLimit": 10000
     },
     "inputWidgets": {},
     "nuid": "f91fd9a2-e0b2-459f-8889-4c56fb85c130",
     "showTitle": false,
     "tableResultSettingsMap": {},
     "title": ""
    }
   },
   "outputs": [],
   "source": [
    "from pyspark.sql import functions as F\n",
    "from pyspark.sql.functions import *\n",
    "from pyspark.sql.types import IntegerType\n",
    "\n",
    "from pyspark.ml.feature import StringIndexer, OneHotEncoder, VectorAssembler\n",
    "\n",
    "from pyspark.ml.stat import Correlation\n",
    "\n",
    "import seaborn as sns\n",
    "import matplotlib.pyplot as plt\n",
    "from graphframes import *\n",
    "from pyspark.sql import *\n",
    "from pyspark.sql.functions import col, year, month\n",
    "import pandas as pd\n",
    "import networkx as nx"
   ]
  },
  {
   "cell_type": "markdown",
   "metadata": {
    "application/vnd.databricks.v1+cell": {
     "cellMetadata": {
      "byteLimit": 2048000,
      "rowLimit": 10000
     },
     "inputWidgets": {},
     "nuid": "0a2279b0-5e99-4b65-a04b-ac399ab1c26c",
     "showTitle": false,
     "tableResultSettingsMap": {},
     "title": ""
    }
   },
   "source": [
    "## The Data\n",
    "The dataset choosen to perform graph analysis is Trip Data regarding Yellow Taxis in NYC during the most crowded month in the year (https://www.nyc.gov/site/tlc/about/tlc-trip-record-data.page)."
   ]
  },
  {
   "cell_type": "markdown",
   "metadata": {
    "application/vnd.databricks.v1+cell": {
     "cellMetadata": {
      "byteLimit": 2048000,
      "rowLimit": 10000
     },
     "inputWidgets": {},
     "nuid": "b935a142-a51d-4030-afcc-5c37e46f0abb",
     "showTitle": false,
     "tableResultSettingsMap": {},
     "title": ""
    }
   },
   "source": [
    "## Content\n",
    "- VendorID: ID of taximeter company.\n",
    "- tpep_pickup_datetime: Date and time when the meter was engaged.\n",
    "- tpep_dropoff_datetime: Date and time when the meter was disengaged.\n",
    "- passenger_count: Number of passengers in the vehicle.\n",
    "- trip_distance: Trip distance in miles reported by the taximeter.\n",
    "- RatecodeID: long Final rate code in effect at the end of the trip.\n",
    "- store_and_fwd_flag: whether the trip record was held in vehicle memory before sending to the vendor.\n",
    "- PULocationID: TLC Taxi Zone in which the taximeter was engaged.\n",
    "- DOLocationID: TLC Taxi Zone in which the taximeter was disengaged.\n",
    "- payment_type: A numeric code signifying how the passenger paid for the trip.\n",
    "- fare_amount: The time-and-distance fare calculated by the meter.\n",
    "- extra: Miscellaneous extras and surcharges.\n",
    "- mta_tax: $0.50 MTA tax that is automatically triggered based on the metered\n",
    "rate in use.\n",
    "- tip_amount: Total amount of tips.\n",
    "- tolls_amount: Total amount of all tolls paid in trip.\n",
    "- improvement_surcharge: $0.30 improvement surcharge assessed trips at the flag drop.\n",
    "- total_amount: Total amount charged to passengers.\n",
    "- congestion_surcharge: Total amount collected in trip for NYS congestion surcharge.\n",
    "- Airport_fee: $1.75 if pick up at LaGuardia or John F. Kennedy Airports."
   ]
  },
  {
   "cell_type": "markdown",
   "metadata": {
    "application/vnd.databricks.v1+cell": {
     "cellMetadata": {
      "byteLimit": 2048000,
      "rowLimit": 10000
     },
     "inputWidgets": {},
     "nuid": "e76f1fed-90b9-4563-954c-30dfd5d2350a",
     "showTitle": false,
     "tableResultSettingsMap": {},
     "title": ""
    }
   },
   "source": [
    "**Trip Data:**"
   ]
  },
  {
   "cell_type": "code",
   "execution_count": 0,
   "metadata": {
    "application/vnd.databricks.v1+cell": {
     "cellMetadata": {
      "byteLimit": 2048000,
      "rowLimit": 10000
     },
     "inputWidgets": {},
     "nuid": "b4ef43e2-b86d-4465-a7a9-52b802f3c48d",
     "showTitle": false,
     "tableResultSettingsMap": {},
     "title": ""
    }
   },
   "outputs": [],
   "source": [
    "spark = SparkSession.builder.appName(\"Read Parquet\").getOrCreate()\n",
    "yellow_taxis_dec = spark.read.parquet(\"/FileStore/tables/yellow_taxis_Dec.parquet\")\n",
    "display(yellow_taxis_dec)\n"
   ]
  },
  {
   "cell_type": "markdown",
   "metadata": {
    "application/vnd.databricks.v1+cell": {
     "cellMetadata": {
      "byteLimit": 2048000,
      "rowLimit": 10000
     },
     "inputWidgets": {},
     "nuid": "4987e7b8-f68e-47d0-b799-4db1846c7136",
     "showTitle": false,
     "tableResultSettingsMap": {},
     "title": ""
    }
   },
   "source": [
    "**Taxi zones:**"
   ]
  },
  {
   "cell_type": "code",
   "execution_count": 0,
   "metadata": {
    "application/vnd.databricks.v1+cell": {
     "cellMetadata": {
      "byteLimit": 2048000,
      "rowLimit": 10000
     },
     "inputWidgets": {},
     "nuid": "a7e90dad-5d2f-453d-a5de-3428543079bb",
     "showTitle": false,
     "tableResultSettingsMap": {},
     "title": ""
    }
   },
   "outputs": [],
   "source": [
    "file_location = \"/FileStore/tables/taxi_zone_lookup.csv\"\n",
    "taxi_zone_lookup = spark.read.load(\n",
    "    file_location, format=\"csv\", sep=\",\", inferSchema=\"true\", header=\"true\"\n",
    ")\n",
    "display(taxi_zone_lookup)"
   ]
  },
  {
   "cell_type": "markdown",
   "metadata": {
    "application/vnd.databricks.v1+cell": {
     "cellMetadata": {
      "byteLimit": 2048000,
      "rowLimit": 10000
     },
     "inputWidgets": {},
     "nuid": "09913464-6203-42a1-ba49-ba223f136b55",
     "showTitle": false,
     "tableResultSettingsMap": {},
     "title": ""
    }
   },
   "source": [
    "**Join the tables in LocationID (in order to have the names of the Boroughs, Zones and Service Zones):**"
   ]
  },
  {
   "cell_type": "code",
   "execution_count": 0,
   "metadata": {
    "application/vnd.databricks.v1+cell": {
     "cellMetadata": {
      "byteLimit": 2048000,
      "rowLimit": 10000
     },
     "inputWidgets": {},
     "nuid": "046616d0-d767-402f-9921-147cc28c3791",
     "showTitle": false,
     "tableResultSettingsMap": {},
     "title": ""
    }
   },
   "outputs": [],
   "source": [
    "# Join yellow_taxis_dec with locations to get the name of the zone(PUzone,PUBorough and PUservice_zone)\n",
    "yellow_taxis_dec = (\n",
    "    yellow_taxis_dec.join(\n",
    "        taxi_zone_lookup,\n",
    "        yellow_taxis_dec[\"PULocationID\"] == taxi_zone_lookup[\"LocationID\"],\n",
    "        \"left\",\n",
    "    )\n",
    "    .withColumnRenamed(\"Borough\", \"PUBorough\")\n",
    "    .withColumnRenamed(\"service_zone\", \"PUservice_zone\")\n",
    "    .withColumnRenamed(\"Zone\", \"PUZone\")\n",
    ")\n",
    "\n",
    "# Drop the redundant LocationID column from the first join\n",
    "yellow_taxis_dec = yellow_taxis_dec.drop(\"LocationID\")\n",
    "\n",
    "# Join yellow_taxis_dec with locations again to get DOzone, DOBorough and DOservice_zone\n",
    "yellow_taxis_dec = (\n",
    "    yellow_taxis_dec.join(\n",
    "        taxi_zone_lookup,\n",
    "        yellow_taxis_dec[\"DOLocationID\"] == taxi_zone_lookup[\"LocationID\"],\n",
    "        \"left\",\n",
    "    )\n",
    "    .withColumnRenamed(\"Borough\", \"DOBorough\")\n",
    "    .withColumnRenamed(\"service_zone\", \"DOservice_zone\")\n",
    "    .withColumnRenamed(\"Zone\", \"DOZone\")\n",
    ")\n",
    "\n",
    "# Drop the redundant LocationID column from the second join\n",
    "yellow_taxis_dec = yellow_taxis_dec.drop(\"LocationID\")\n",
    "\n",
    "display(yellow_taxis_dec)"
   ]
  },
  {
   "cell_type": "markdown",
   "metadata": {
    "application/vnd.databricks.v1+cell": {
     "cellMetadata": {
      "byteLimit": 2048000,
      "rowLimit": 10000
     },
     "inputWidgets": {},
     "nuid": "bd8df6a2-49fa-4dd0-b670-10f80c41ff94",
     "showTitle": false,
     "tableResultSettingsMap": {},
     "title": ""
    }
   },
   "source": [
    "## Explanatory Data Analysis (EDA)"
   ]
  },
  {
   "cell_type": "code",
   "execution_count": 0,
   "metadata": {
    "application/vnd.databricks.v1+cell": {
     "cellMetadata": {
      "byteLimit": 2048000,
      "rowLimit": 10000
     },
     "inputWidgets": {},
     "nuid": "f3ae8b6d-ac05-4573-b2db-a7060ea314d5",
     "showTitle": false,
     "tableResultSettingsMap": {},
     "title": ""
    }
   },
   "outputs": [],
   "source": [
    "yellow_taxis_dec.printSchema()"
   ]
  },
  {
   "cell_type": "code",
   "execution_count": 0,
   "metadata": {
    "application/vnd.databricks.v1+cell": {
     "cellMetadata": {
      "byteLimit": 2048000,
      "rowLimit": 10000
     },
     "inputWidgets": {},
     "nuid": "b33bed6b-8178-496d-a322-342ff6bb0eed",
     "showTitle": false,
     "tableResultSettingsMap": {},
     "title": ""
    }
   },
   "outputs": [],
   "source": [
    "taxi_zone_lookup.printSchema()"
   ]
  },
  {
   "cell_type": "markdown",
   "metadata": {
    "application/vnd.databricks.v1+cell": {
     "cellMetadata": {
      "byteLimit": 2048000,
      "rowLimit": 10000
     },
     "inputWidgets": {},
     "nuid": "0b006ebb-693f-4d85-b972-64dada78c1b2",
     "showTitle": false,
     "tableResultSettingsMap": {},
     "title": ""
    }
   },
   "source": [
    "## Summary Statistics"
   ]
  },
  {
   "cell_type": "code",
   "execution_count": 0,
   "metadata": {
    "application/vnd.databricks.v1+cell": {
     "cellMetadata": {
      "byteLimit": 2048000,
      "rowLimit": 10000
     },
     "inputWidgets": {},
     "nuid": "7d3da186-bdb1-4b67-bef3-3240440fdfb7",
     "showTitle": false,
     "tableResultSettingsMap": {},
     "title": ""
    }
   },
   "outputs": [],
   "source": [
    "# Check column statistics\n",
    "yellow_taxis_dec.select(yellow_taxis_dec.columns[:5]).describe().show()\n",
    "\n",
    "yellow_taxis_dec.select(yellow_taxis_dec.columns[5:11]).describe().show()\n",
    "\n",
    "yellow_taxis_dec.select(yellow_taxis_dec.columns[11:16]).describe().show()\n",
    "\n",
    "yellow_taxis_dec.select(yellow_taxis_dec.columns[16:19]).describe().show()\n",
    "\n",
    "yellow_taxis_dec.select(yellow_taxis_dec.columns[19:]).describe().show()"
   ]
  },
  {
   "cell_type": "markdown",
   "metadata": {
    "application/vnd.databricks.v1+cell": {
     "cellMetadata": {},
     "inputWidgets": {},
     "nuid": "27627243-4bc4-4934-af73-66207d1ce0f4",
     "showTitle": false,
     "tableResultSettingsMap": {},
     "title": ""
    }
   },
   "source": [
    "##Missing Values"
   ]
  },
  {
   "cell_type": "code",
   "execution_count": 0,
   "metadata": {
    "application/vnd.databricks.v1+cell": {
     "cellMetadata": {
      "byteLimit": 2048000,
      "rowLimit": 10000
     },
     "inputWidgets": {},
     "nuid": "9227b50e-c5ec-40bc-bc9d-9e5b043dcdda",
     "showTitle": false,
     "tableResultSettingsMap": {},
     "title": ""
    }
   },
   "outputs": [],
   "source": [
    "# Get the total number of rows in the DataFrame\n",
    "nrows = yellow_taxis_dec.count()\n",
    "\n",
    "# Count the number of missing (null) values for each column\n",
    "n_missing = yellow_taxis_dec.select(\n",
    "    [count(when(col(c).isNull(), c)).alias(c) for c in yellow_taxis_dec.columns]\n",
    ")\n",
    "\n",
    "# Calculate and display the percentage of missing values for each column\n",
    "display(\n",
    "    n_missing.select([((col(c) / nrows) * 100).alias(c) for c in n_missing.columns])\n",
    ")"
   ]
  },
  {
   "cell_type": "markdown",
   "metadata": {
    "application/vnd.databricks.v1+cell": {
     "cellMetadata": {},
     "inputWidgets": {},
     "nuid": "2dc368b8-17d1-4469-82ed-cf70e0cf7944",
     "showTitle": false,
     "tableResultSettingsMap": {},
     "title": ""
    }
   },
   "source": [
    "**As we can see this dataset doesn't have missing values.**"
   ]
  },
  {
   "cell_type": "markdown",
   "metadata": {
    "application/vnd.databricks.v1+cell": {
     "cellMetadata": {},
     "inputWidgets": {},
     "nuid": "ff81acde-64f8-4a3c-b3a4-643bc1e86f45",
     "showTitle": false,
     "tableResultSettingsMap": {},
     "title": ""
    }
   },
   "source": [
    "##Correlation Between Numeric Variables"
   ]
  },
  {
   "cell_type": "code",
   "execution_count": 0,
   "metadata": {
    "application/vnd.databricks.v1+cell": {
     "cellMetadata": {
      "byteLimit": 2048000,
      "rowLimit": 10000
     },
     "inputWidgets": {},
     "nuid": "8ebd94ee-7ca9-4e22-be30-77dc270858ae",
     "showTitle": false,
     "tableResultSettingsMap": {},
     "title": ""
    }
   },
   "outputs": [],
   "source": [
    "# Define a list of numeric columns\n",
    "num_cols = [\n",
    "    \"passenger_count\",\n",
    "    \"trip_distance\",\n",
    "    \"payment_type\",\n",
    "    \"fare_amount\",\n",
    "    \"extra\",\n",
    "    \"mta_tax\",\n",
    "    \"tip_amount\",\n",
    "    \"total_amount\",\n",
    "    \"congestion_surcharge\",\n",
    "    \"Airport_fee\",\n",
    "]\n",
    "\n",
    "# Create a VectorAssembler to combine the selected columns into a single feature vector\n",
    "assembler = VectorAssembler(\n",
    "    inputCols=num_cols, outputCol=\"features\", handleInvalid=\"skip\"\n",
    ")\n",
    "\n",
    "# Apply the assembler to the DataFrame and select the 'features' column\n",
    "df = assembler.transform(yellow_taxis_dec).select(\"features\")"
   ]
  },
  {
   "cell_type": "code",
   "execution_count": 0,
   "metadata": {
    "application/vnd.databricks.v1+cell": {
     "cellMetadata": {
      "byteLimit": 2048000,
      "rowLimit": 10000
     },
     "inputWidgets": {},
     "nuid": "06c65922-8f94-4f7a-9a95-22ed4a593e31",
     "showTitle": false,
     "tableResultSettingsMap": {},
     "title": ""
    }
   },
   "outputs": [],
   "source": [
    "# Calculate the Pearson correlation matrix\n",
    "pearson_correlation = Correlation.corr(df, \"features\", \"pearson\").collect()[0][0]\n",
    "\n",
    "# Convert the correlation matrix to an array and then to a list\n",
    "corr_matrix = pearson_correlation.toArray().tolist()\n",
    "\n",
    "# Create a new DataFrame from the correlation matrix\n",
    "df_s = spark.createDataFrame(corr_matrix, num_cols)\n",
    "\n",
    "display(df_s)"
   ]
  },
  {
   "cell_type": "code",
   "execution_count": 0,
   "metadata": {
    "application/vnd.databricks.v1+cell": {
     "cellMetadata": {
      "byteLimit": 2048000,
      "rowLimit": 10000
     },
     "inputWidgets": {},
     "nuid": "ca1ce9c2-8e9a-47d0-a083-8a0f8093cb0e",
     "showTitle": false,
     "tableResultSettingsMap": {},
     "title": ""
    }
   },
   "outputs": [],
   "source": [
    "# Create a heatmap to visualize the correlation matrix using seaborn\n",
    "sns.heatmap(\n",
    "    corr_matrix, cmap=sns.cm.rocket_r, xticklabels=num_cols, yticklabels=num_cols\n",
    ")\n",
    "\n",
    "plt.show()"
   ]
  },
  {
   "cell_type": "markdown",
   "metadata": {
    "application/vnd.databricks.v1+cell": {
     "cellMetadata": {},
     "inputWidgets": {},
     "nuid": "be6df067-98a4-46c1-8cb9-6730c541458d",
     "showTitle": false,
     "tableResultSettingsMap": {},
     "title": ""
    }
   },
   "source": [
    "**From the Heatmap we can conclude that only variables related to monetary expense have some correlation between each other.**"
   ]
  },
  {
   "cell_type": "markdown",
   "metadata": {
    "application/vnd.databricks.v1+cell": {
     "cellMetadata": {
      "byteLimit": 2048000,
      "rowLimit": 10000
     },
     "inputWidgets": {},
     "nuid": "01df8621-28c9-4d38-9dbb-ca880c1db75e",
     "showTitle": false,
     "tableResultSettingsMap": {},
     "title": ""
    }
   },
   "source": [
    "##Transformations and Data Cleaning"
   ]
  },
  {
   "cell_type": "code",
   "execution_count": 0,
   "metadata": {
    "application/vnd.databricks.v1+cell": {
     "cellMetadata": {
      "byteLimit": 2048000,
      "rowLimit": 10000
     },
     "inputWidgets": {},
     "nuid": "53e4f6a6-79f7-4403-ba98-c08b673818a9",
     "showTitle": false,
     "tableResultSettingsMap": {},
     "title": ""
    }
   },
   "outputs": [],
   "source": [
    "# Modify the DataFrame to format date columns\n",
    "yellow_taxis_dec = yellow_taxis_dec.withColumn(\n",
    "    \"tpep_pickup_datetime\", F.date_format(\"tpep_pickup_datetime\", \"yyyy-MM-dd HH:mm:ss\")\n",
    ").withColumn(  # Format the pickup datetime column\n",
    "    \"tpep_dropoff_datetime\",\n",
    "    F.date_format(\"tpep_dropoff_datetime\", \"yyyy-MM-dd HH:mm:ss\"),\n",
    ")  # Format the dropoff datetime column\n",
    "\n",
    "display(yellow_taxis_dec)"
   ]
  },
  {
   "cell_type": "code",
   "execution_count": 0,
   "metadata": {
    "application/vnd.databricks.v1+cell": {
     "cellMetadata": {
      "byteLimit": 2048000,
      "rowLimit": 10000
     },
     "inputWidgets": {},
     "nuid": "f496b1eb-48cd-4836-9e19-15a31404f23a",
     "showTitle": false,
     "tableResultSettingsMap": {},
     "title": ""
    }
   },
   "outputs": [],
   "source": [
    "# Drop Rows that aren't from December of 2023 or from January 1st of 2024\n",
    "\n",
    "# Define the date range\n",
    "start_date = \"2023-12-01\"\n",
    "end_date = \"2024-01-01\"\n",
    "\n",
    "# Keep rows where the pickup and dropoff datetimes are within the specified range\n",
    "yellow_taxis_dec = yellow_taxis_dec.filter(\n",
    "    (F.col(\"tpep_pickup_datetime\").between(start_date, end_date))\n",
    "    & (F.col(\"tpep_dropoff_datetime\").between(start_date, end_date))\n",
    ")\n",
    "\n",
    "display(yellow_taxis_dec)"
   ]
  },
  {
   "cell_type": "code",
   "execution_count": 0,
   "metadata": {
    "application/vnd.databricks.v1+cell": {
     "cellMetadata": {
      "byteLimit": 2048000,
      "rowLimit": 10000
     },
     "inputWidgets": {},
     "nuid": "da35202e-4e33-4cff-b80f-ab67d0c7fbe4",
     "showTitle": false,
     "tableResultSettingsMap": {},
     "title": ""
    }
   },
   "outputs": [],
   "source": [
    "# Drop rows where dropoff is before pickup\n",
    "yellow_taxis_dec = yellow_taxis_dec.filter(\n",
    "    F.col(\"tpep_dropoff_datetime\") > F.col(\"tpep_pickup_datetime\")\n",
    ")\n",
    "\n",
    "# Show the result\n",
    "display(yellow_taxis_dec)"
   ]
  },
  {
   "cell_type": "code",
   "execution_count": 0,
   "metadata": {
    "application/vnd.databricks.v1+cell": {
     "cellMetadata": {
      "byteLimit": 2048000,
      "rowLimit": 10000
     },
     "inputWidgets": {},
     "nuid": "c0d15d70-ca7f-468c-98fa-919e3a314ecc",
     "showTitle": false,
     "tableResultSettingsMap": {},
     "title": ""
    }
   },
   "outputs": [],
   "source": [
    "# We have trips where the distance is 0\n",
    "# If they have the same id in PULocationID and DOLocationID and took less than a minute we will consider them Cancelled Trips\n",
    "\n",
    "df = yellow_taxis_dec.withColumn(\n",
    "    \"time_diff\",\n",
    "    F.unix_timestamp(\"tpep_dropoff_datetime\")\n",
    "    - F.unix_timestamp(\"tpep_pickup_datetime\"),\n",
    ")  # create a time difference of seconds\n",
    "\n",
    "# Keep rows where time difference is at least 60 seconds, pickup and dropoff locations differ or trip distance is not zero\n",
    "yellow_taxis_dec = df.filter(\n",
    "    (F.col(\"time_diff\") >= 60)\n",
    "    | (F.col(\"PULocationID\") != F.col(\"DOLocationID\"))\n",
    "    | (F.col(\"trip_distance\") != 0)\n",
    ")\n",
    "\n",
    "# Drop the 'time_diff' column after filtering\n",
    "yellow_taxis_dec = yellow_taxis_dec.drop(\"time_diff\")\n",
    "\n",
    "display(yellow_taxis_dec)"
   ]
  },
  {
   "cell_type": "code",
   "execution_count": 0,
   "metadata": {
    "application/vnd.databricks.v1+cell": {
     "cellMetadata": {
      "byteLimit": 2048000,
      "rowLimit": 10000
     },
     "inputWidgets": {},
     "nuid": "53f6400a-75db-492e-8d1c-26be36923ee5",
     "showTitle": false,
     "tableResultSettingsMap": {},
     "title": ""
    }
   },
   "outputs": [],
   "source": [
    "# Drop rows that have negative values in numeric columns as it isn't possible\n",
    "num_cols = [\n",
    "    \"passenger_count\",\n",
    "    \"trip_distance\",\n",
    "    \"payment_type\",\n",
    "    \"fare_amount\",\n",
    "    \"extra\",\n",
    "    \"mta_tax\",\n",
    "    \"tip_amount\",\n",
    "    \"total_amount\",\n",
    "    \"congestion_surcharge\",\n",
    "    \"Airport_fee\",\n",
    "]\n",
    "\n",
    "for column in num_cols:\n",
    "    yellow_taxis_dec = yellow_taxis_dec.filter(col(column) >= 0)\n",
    "\n",
    "display(yellow_taxis_dec)"
   ]
  },
  {
   "cell_type": "markdown",
   "metadata": {
    "application/vnd.databricks.v1+cell": {
     "cellMetadata": {
      "byteLimit": 2048000,
      "rowLimit": 10000
     },
     "inputWidgets": {},
     "nuid": "c2c88c8f-5127-4d50-a490-1c0c35e7eb58",
     "showTitle": false,
     "tableResultSettingsMap": {},
     "title": ""
    }
   },
   "source": [
    "## Visualizations using SparkSQL and MapReduce\n",
    "- Distribution of payment_type.\n",
    "- If tips or not? \n",
    "- Average tip per pull up zone.\n",
    "- Average tip per drop off zone.\n",
    "- Number of trips per day.\n",
    "- Number of trips per hour.\n",
    "- Trips paths with highest costs.\n"
   ]
  },
  {
   "cell_type": "markdown",
   "metadata": {
    "application/vnd.databricks.v1+cell": {
     "cellMetadata": {
      "byteLimit": 2048000,
      "rowLimit": 10000
     },
     "inputWidgets": {},
     "nuid": "44e9639c-1460-44c6-bccb-fccc29518e3d",
     "showTitle": false,
     "tableResultSettingsMap": {},
     "title": ""
    }
   },
   "source": [
    "A numeric code signifying how the passenger paid for the trip.\n",
    "- 1 = Credit card.\n",
    "- 2 = Cash.\n",
    "- 3 = No charge.\n",
    "- 4 = Dispute.\n",
    "- 5 = Unknown.\n",
    "- 6 = Voided trip (trip that was canceled).\n"
   ]
  },
  {
   "cell_type": "code",
   "execution_count": 0,
   "metadata": {
    "application/vnd.databricks.v1+cell": {
     "cellMetadata": {
      "byteLimit": 2048000,
      "rowLimit": 10000
     },
     "inputWidgets": {},
     "nuid": "c0d590d5-a745-4614-9a5f-7793b740d916",
     "showTitle": false,
     "tableResultSettingsMap": {},
     "title": ""
    }
   },
   "outputs": [],
   "source": [
    "# Create Temporary View of the dataset for an efficient way to leverage SQL queries\n",
    "yellow_taxis_dec.createOrReplaceTempView(\"yellow_taxis\")\n",
    "\n",
    "# SQL query to count the number of entries for each payment type\n",
    "sorted_distribution_with_window = spark.sql(\n",
    "    \"\"\"\n",
    "    SELECT DISTINCT payment_type,\n",
    "           COUNT(*) OVER (PARTITION BY payment_type) AS count\n",
    "    FROM yellow_taxis\n",
    "    ORDER BY count DESC\n",
    "\"\"\"\n",
    ")\n",
    "\n",
    "display(sorted_distribution_with_window)"
   ]
  },
  {
   "cell_type": "markdown",
   "metadata": {
    "application/vnd.databricks.v1+cell": {
     "cellMetadata": {},
     "inputWidgets": {},
     "nuid": "62f38ebe-eb01-424e-9b26-ec968dc951a9",
     "showTitle": false,
     "tableResultSettingsMap": {},
     "title": ""
    }
   },
   "source": [
    "**Using mapreduce:**"
   ]
  },
  {
   "cell_type": "code",
   "execution_count": 0,
   "metadata": {
    "application/vnd.databricks.v1+cell": {
     "cellMetadata": {
      "byteLimit": 2048000,
      "rowLimit": 10000
     },
     "inputWidgets": {},
     "nuid": "765e3842-1559-447c-8e82-8cf1164a7627",
     "showTitle": false,
     "tableResultSettingsMap": {},
     "title": ""
    }
   },
   "outputs": [],
   "source": [
    "# Convert DataFrame to a Resilient Distributed Dataset\n",
    "yellow_taxis_rdd = yellow_taxis_dec.rdd\n",
    "\n",
    "# MapReduce for payment type distribution\n",
    "payment_type_counts_rdd = yellow_taxis_rdd.map(lambda row: (row[\"payment_type\"], 1)) \\ # Map: create key-value pairs (payment_type, 1)\n",
    "                                      .reduceByKey(lambda x, y: x + y)  # Reduce: sum the counts for each payment type                  \n",
    "\n",
    "# Collect results\n",
    "display(payment_type_counts_rdd.collect())\n"
   ]
  },
  {
   "cell_type": "code",
   "execution_count": 0,
   "metadata": {
    "application/vnd.databricks.v1+cell": {
     "cellMetadata": {
      "byteLimit": 2048000,
      "rowLimit": 10000
     },
     "inputWidgets": {},
     "nuid": "80a5fc6f-fe3c-4b22-bf77-cf165f843f4a",
     "showTitle": false,
     "tableResultSettingsMap": {},
     "title": ""
    }
   },
   "outputs": [],
   "source": [
    "# Create Temporary View of the dataset for an efficient way to leverage SQL queries\n",
    "yellow_taxis_dec.createOrReplaceTempView(\"yellow_taxis\")\n",
    "\n",
    "# SQL query to categorize trips into \"Tipped\" and \"Didn't Tip\", and count occurrences for each category\n",
    "tip_distribution = spark.sql(\n",
    "    \"\"\"\n",
    "    SELECT \n",
    "        CASE \n",
    "            WHEN tip_amount = 0 THEN \"Didn't Tip\"\n",
    "            ELSE \"Tipped\"\n",
    "        END AS tip_status,\n",
    "        COUNT(*) AS count\n",
    "    FROM yellow_taxis\n",
    "    GROUP BY tip_status\n",
    "\"\"\"\n",
    ")\n",
    "\n",
    "display(tip_distribution)"
   ]
  },
  {
   "cell_type": "markdown",
   "metadata": {
    "application/vnd.databricks.v1+cell": {
     "cellMetadata": {},
     "inputWidgets": {},
     "nuid": "e3030f39-7826-407e-96f9-e33bcc8e2d23",
     "showTitle": false,
     "tableResultSettingsMap": {},
     "title": ""
    }
   },
   "source": [
    "**Using mapreduce:**"
   ]
  },
  {
   "cell_type": "code",
   "execution_count": 0,
   "metadata": {
    "application/vnd.databricks.v1+cell": {
     "cellMetadata": {
      "byteLimit": 2048000,
      "rowLimit": 10000
     },
     "inputWidgets": {},
     "nuid": "c4eb725a-9e2a-4361-be79-816ac44144c6",
     "showTitle": false,
     "tableResultSettingsMap": {},
     "title": ""
    }
   },
   "outputs": [],
   "source": [
    "# Convert DataFrame to a Resilient Distributed Dataset\n",
    "yellow_taxis_rdd = yellow_taxis_dec.rdd\n",
    "\n",
    "# MapReduce for tip distribution\n",
    "# Map step: For each row,assign \"Didn't Tip\" if 0,or \"Tipped\" if it's non-zero.\n",
    "tip_distribution_rdd = yellow_taxis_rdd.map(lambda row: (\"Didn't Tip\" if row[\"tip_amount\"] == 0 else \"Tipped\", 1)) \\ \n",
    "                                      .reduceByKey(lambda x, y: x + y) # Reduce step: For each unique key (\"Didn't Tip\" or \"Tipped\"), sum the values\n",
    "\n",
    "display(tip_distribution_rdd.collect())\n"
   ]
  },
  {
   "cell_type": "code",
   "execution_count": 0,
   "metadata": {
    "application/vnd.databricks.v1+cell": {
     "cellMetadata": {
      "byteLimit": 2048000,
      "rowLimit": 10000
     },
     "inputWidgets": {},
     "nuid": "16a8a9e9-3ac0-40fa-ab1b-14ef09127cc0",
     "showTitle": false,
     "tableResultSettingsMap": {},
     "title": ""
    }
   },
   "outputs": [],
   "source": [
    "# Create Temporary View of the dataset for an efficient way to leverage SQL queries\n",
    "yellow_taxis_dec.createOrReplaceTempView(\"yellow_taxis\")\n",
    "\n",
    "# SQL query to calculate the average tip amount per PUZone\n",
    "avg_tip_per_zone_with_window = spark.sql(\n",
    "    \"\"\"\n",
    "    SELECT DISTINCT \n",
    "        PUZone,\n",
    "        AVG(tip_amount) OVER (PARTITION BY PUZone) AS avg_tip\n",
    "    FROM yellow_taxis\n",
    "    ORDER BY avg_tip DESC\n",
    "\"\"\"\n",
    ")\n",
    "\n",
    "display(avg_tip_per_zone_with_window)"
   ]
  },
  {
   "cell_type": "markdown",
   "metadata": {
    "application/vnd.databricks.v1+cell": {
     "cellMetadata": {},
     "inputWidgets": {},
     "nuid": "c3594aec-574d-4027-9baa-f6e5638cfd6b",
     "showTitle": false,
     "tableResultSettingsMap": {},
     "title": ""
    }
   },
   "source": [
    "**Using MapReduce:**"
   ]
  },
  {
   "cell_type": "code",
   "execution_count": 0,
   "metadata": {
    "application/vnd.databricks.v1+cell": {
     "cellMetadata": {
      "byteLimit": 2048000,
      "rowLimit": 10000
     },
     "inputWidgets": {},
     "nuid": "55412f9c-2996-4f0e-a478-5efef12706d5",
     "showTitle": false,
     "tableResultSettingsMap": {},
     "title": ""
    }
   },
   "outputs": [],
   "source": [
    "# Convert DataFrame to a Resilient Distributed Dataset\n",
    "yellow_taxis_rdd = yellow_taxis_dec.rdd\n",
    "\n",
    "# Map and Reduce in one step to calculate average tip per PUZone\n",
    "avg_tip_per_zone_rdd = (\n",
    "    yellow_taxis_rdd.map(lambda row: (row[\"PUZone\"], (row[\"tip_amount\"], 1)))\n",
    "    .reduceByKey(lambda x, y: (x[0] + y[0], x[1] + y[1]))\n",
    "    .mapValues(lambda x: x[0] / x[1])\n",
    ")  # Calculate the average tip\n",
    "\n",
    "# Sort by average tip in descending order\n",
    "sorted_avg_tip_per_zone_rdd = avg_tip_per_zone_rdd.sortBy(\n",
    "    lambda x: x[1], ascending=False\n",
    ")\n",
    "\n",
    "display(sorted_avg_tip_per_zone_rdd.collect())"
   ]
  },
  {
   "cell_type": "markdown",
   "metadata": {
    "application/vnd.databricks.v1+cell": {
     "cellMetadata": {},
     "inputWidgets": {},
     "nuid": "34569ba9-ce1d-41a3-aa9a-f74284123489",
     "showTitle": false,
     "tableResultSettingsMap": {},
     "title": ""
    }
   },
   "source": [
    "**A large tip in West Brighton which is possible**"
   ]
  },
  {
   "cell_type": "code",
   "execution_count": 0,
   "metadata": {
    "application/vnd.databricks.v1+cell": {
     "cellMetadata": {
      "byteLimit": 2048000,
      "rowLimit": 10000
     },
     "inputWidgets": {},
     "nuid": "4eb57936-a7ca-4fd7-8671-c42b4e4a5ccf",
     "showTitle": false,
     "tableResultSettingsMap": {},
     "title": ""
    }
   },
   "outputs": [],
   "source": [
    "# Create Temporary View of the dataset for an efficient way to leverage SQL queries\n",
    "yellow_taxis_dec.createOrReplaceTempView(\"yellow_taxis\")\n",
    "\n",
    "# SQL query to calculate the average tip amount per DOZone\n",
    "avg_tip_per_zone = spark.sql(\n",
    "    \"\"\"\n",
    "    SELECT \n",
    "        DOZone, \n",
    "        AVG(tip_amount) AS avg_tip\n",
    "    FROM yellow_taxis\n",
    "    GROUP BY DOZone\n",
    "    ORDER BY avg_tip DESC\n",
    "\"\"\"\n",
    ")\n",
    "\n",
    "display(avg_tip_per_zone)"
   ]
  },
  {
   "cell_type": "markdown",
   "metadata": {
    "application/vnd.databricks.v1+cell": {
     "cellMetadata": {},
     "inputWidgets": {},
     "nuid": "581beeb1-7286-4db3-b863-e4b424e36f8e",
     "showTitle": false,
     "tableResultSettingsMap": {},
     "title": ""
    }
   },
   "source": [
    "**Using MapReduce:**"
   ]
  },
  {
   "cell_type": "code",
   "execution_count": 0,
   "metadata": {
    "application/vnd.databricks.v1+cell": {
     "cellMetadata": {
      "byteLimit": 2048000,
      "rowLimit": 10000
     },
     "inputWidgets": {},
     "nuid": "eddec7a7-2ed2-4842-9690-7c2b938f0170",
     "showTitle": false,
     "tableResultSettingsMap": {},
     "title": ""
    }
   },
   "outputs": [],
   "source": [
    "# Convert DataFrame to a Resilient Distributed Dataset\n",
    "yellow_taxis_rdd = yellow_taxis_dec.rdd\n",
    "\n",
    "# Map and Reduce in one step to calculate average tip per DOZone\n",
    "avg_tip_per_zone_rdd = (\n",
    "    yellow_taxis_rdd.map(lambda row: (row[\"DOZone\"], (row[\"tip_amount\"], 1)))\n",
    "    .reduceByKey(lambda x, y: (x[0] + y[0], x[1] + y[1]))\n",
    "    .mapValues(lambda x: x[0] / x[1])\n",
    ")  # Calculate the average tip\n",
    "\n",
    "# Sort by average tip in descending order\n",
    "sorted_avg_tip_per_zone_rdd = avg_tip_per_zone_rdd.sortBy(\n",
    "    lambda x: x[1], ascending=False\n",
    ")\n",
    "\n",
    "display(sorted_avg_tip_per_zone_rdd.collect())"
   ]
  },
  {
   "cell_type": "code",
   "execution_count": 0,
   "metadata": {
    "application/vnd.databricks.v1+cell": {
     "cellMetadata": {
      "byteLimit": 2048000,
      "rowLimit": 10000
     },
     "inputWidgets": {},
     "nuid": "3e5ab070-70f8-4ada-9657-89150c935c6d",
     "showTitle": false,
     "tableResultSettingsMap": {},
     "title": ""
    }
   },
   "outputs": [],
   "source": [
    "# Create Temporary View of the dataset for an efficient way to leverage SQL queries\n",
    "yellow_taxis_dec.createOrReplaceTempView(\"yellow_taxis\")\n",
    "\n",
    "# SQL query to get the distribution of trips by day\n",
    "trip_distribution_by_day_with_window = spark.sql(\n",
    "    \"\"\"\n",
    "    SELECT DISTINCT \n",
    "        DATE(tpep_pickup_datetime) AS trip_date, \n",
    "        COUNT(*) OVER (PARTITION BY DATE(tpep_pickup_datetime)) AS trip_count\n",
    "    FROM yellow_taxis\n",
    "    ORDER BY trip_count DESC\n",
    "\"\"\"\n",
    ")\n",
    "\n",
    "display(trip_distribution_by_day_with_window)"
   ]
  },
  {
   "cell_type": "code",
   "execution_count": 0,
   "metadata": {
    "application/vnd.databricks.v1+cell": {
     "cellMetadata": {
      "byteLimit": 2048000,
      "rowLimit": 10000
     },
     "inputWidgets": {},
     "nuid": "17f99905-4a95-4fdf-baa3-83a07af36680",
     "showTitle": false,
     "tableResultSettingsMap": {},
     "title": ""
    }
   },
   "outputs": [],
   "source": [
    "# Create Temporary View of the dataset for an efficient way to leverage SQL queries\n",
    "yellow_taxis_dec.createOrReplaceTempView(\"yellow_taxis\")\n",
    "\n",
    "# SQL query to get the distribution of trips by pick up hour\n",
    "trip_distribution_by_hour = spark.sql(\n",
    "    \"\"\"\n",
    "    SELECT \n",
    "        HOUR(tpep_pickup_datetime) AS pickup_hour,  \n",
    "        COUNT(*) AS trip_count\n",
    "    FROM yellow_taxis\n",
    "    GROUP BY pickup_hour\n",
    "    ORDER BY trip_count DESC\n",
    "\"\"\"\n",
    ")\n",
    "\n",
    "display(trip_distribution_by_hour)"
   ]
  },
  {
   "cell_type": "markdown",
   "metadata": {
    "application/vnd.databricks.v1+cell": {
     "cellMetadata": {},
     "inputWidgets": {},
     "nuid": "4b592377-7ccb-4032-ac3a-5705e64ea7d1",
     "showTitle": false,
     "tableResultSettingsMap": {},
     "title": ""
    }
   },
   "source": [
    "**From visualizations we can conlude that:**\n",
    "1. The large majority of users pay with credit card.\n",
    "2. The large majority of users tip.\n",
    "3. Suburban zones with older demographics and Airports are the zones which tip more on average.\n",
    "4. Theres always a small decrease in usage in Sundays and Mondays.\n",
    "5. Theres clear descent in the week prior to the 25th, being the Christmas day the day with the lowest usage.\n",
    "6. Theres a clear rise from 5AM to 6PM (working Hours).\n",
    "\n",
    "**SparkSQL is generally faster than MapReduce due to its in-memory processing and no optimization**"
   ]
  },
  {
   "cell_type": "markdown",
   "metadata": {
    "application/vnd.databricks.v1+cell": {
     "cellMetadata": {},
     "inputWidgets": {},
     "nuid": "4a046326-89d7-41e7-9504-a70b255b4657",
     "showTitle": false,
     "tableResultSettingsMap": {},
     "title": ""
    }
   },
   "source": [
    "-----"
   ]
  },
  {
   "cell_type": "markdown",
   "metadata": {
    "application/vnd.databricks.v1+cell": {
     "cellMetadata": {
      "byteLimit": 2048000,
      "rowLimit": 10000
     },
     "inputWidgets": {},
     "nuid": "ca870486-5d58-4ed6-bb8d-f15c52605fdf",
     "showTitle": false,
     "tableResultSettingsMap": {},
     "title": ""
    }
   },
   "source": [
    "## **Graph Analysis for the whole month of December**"
   ]
  },
  {
   "cell_type": "code",
   "execution_count": 0,
   "metadata": {
    "application/vnd.databricks.v1+cell": {
     "cellMetadata": {
      "byteLimit": 2048000,
      "rowLimit": 10000
     },
     "inputWidgets": {},
     "nuid": "dcfd3d2f-de1a-4f6d-8ff1-6d762d8577e4",
     "showTitle": false,
     "tableResultSettingsMap": {},
     "title": ""
    }
   },
   "outputs": [],
   "source": [
    "zone_Vertices = taxi_zone_lookup.withColumnRenamed(\n",
    "    \"Zone\", \"id\"\n",
    ").distinct()  # Rename the \"Zone\" column to typically named \"id\"\n",
    "display(zone_Vertices)"
   ]
  },
  {
   "cell_type": "code",
   "execution_count": 0,
   "metadata": {
    "application/vnd.databricks.v1+cell": {
     "cellMetadata": {
      "byteLimit": 2048000,
      "rowLimit": 10000
     },
     "inputWidgets": {},
     "nuid": "e83a6230-e28f-40a5-aa26-3527c66c9cf0",
     "showTitle": false,
     "tableResultSettingsMap": {},
     "title": ""
    }
   },
   "outputs": [],
   "source": [
    "tripEdges = yellow_taxis_dec.withColumnRenamed(\"PUZone\", \"src\").withColumnRenamed(\n",
    "    \"DOZone\", \"dst\"\n",
    ")  # Rename the \"PUZone\" column to typically named \"src\" and \"DOZone\" to typically \"dst\"\n",
    "display(tripEdges)"
   ]
  },
  {
   "cell_type": "code",
   "execution_count": 0,
   "metadata": {
    "application/vnd.databricks.v1+cell": {
     "cellMetadata": {
      "byteLimit": 2048000,
      "rowLimit": 10000
     },
     "inputWidgets": {},
     "nuid": "829be216-4f65-4077-bbe8-6c04de6fde6f",
     "showTitle": false,
     "tableResultSettingsMap": {},
     "title": ""
    }
   },
   "outputs": [],
   "source": [
    "gtd = GraphFrame(zone_Vertices, tripEdges) # Create a graphframe for the whole month of december"
   ]
  },
  {
   "cell_type": "markdown",
   "metadata": {
    "application/vnd.databricks.v1+cell": {
     "cellMetadata": {},
     "inputWidgets": {},
     "nuid": "b67e183f-39d1-4cf2-b843-30c5f69c80d6",
     "showTitle": false,
     "tableResultSettingsMap": {},
     "title": ""
    }
   },
   "source": [
    "**Importance of a zone accounting for the quantity and quality of connections pointing to it using PageRank**\n",
    "\n",
    "Explaining PageRank for Taxi Trips: Imagine a passenger taking taxi rides in a city. At each location, they either take another taxi to a popular destination or randomly move to any location. The \"PageRank\" of a location represents the probability of finding the passenger there after many trips. Locations frequently connected to important places, like an airport, gain importance, but this importance is shared if the airport connects to many places. PageRank helps identify key hotspots and transit points in the taxi trip network."
   ]
  },
  {
   "cell_type": "code",
   "execution_count": 0,
   "metadata": {
    "application/vnd.databricks.v1+cell": {
     "cellMetadata": {
      "byteLimit": 2048000,
      "rowLimit": 10000
     },
     "inputWidgets": {},
     "nuid": "34ab792e-8ee5-468a-86b6-8715df1dac95",
     "showTitle": false,
     "tableResultSettingsMap": {},
     "title": ""
    }
   },
   "outputs": [],
   "source": [
    "pageRanks = gtd.pageRank(\n",
    "    resetProbability=0.15, tol=0.01\n",
    ")  # Apply pagerank to the graphframe with a bound on the error in the computation"
   ]
  },
  {
   "cell_type": "code",
   "execution_count": 0,
   "metadata": {
    "application/vnd.databricks.v1+cell": {
     "cellMetadata": {
      "byteLimit": 2048000,
      "rowLimit": 10000
     },
     "inputWidgets": {},
     "nuid": "a95b4e9c-f399-4fc9-84ea-aceeb9f79372",
     "showTitle": false,
     "tableResultSettingsMap": {},
     "title": ""
    }
   },
   "outputs": [],
   "source": [
    "display(pageRanks.vertices.orderBy(\"pagerank\", ascending=False))"
   ]
  },
  {
   "cell_type": "markdown",
   "metadata": {
    "application/vnd.databricks.v1+cell": {
     "cellMetadata": {},
     "inputWidgets": {},
     "nuid": "c3b742b1-7f89-4cdc-93e0-58f262f02c9d",
     "showTitle": false,
     "tableResultSettingsMap": {},
     "title": ""
    }
   },
   "source": [
    "**Identify clusters of areas that are strongly interconnected based on trip data**\n",
    "\n",
    "\n",
    "Label Propagation for Taxi Trips: Imagine a city where each location (e.g., pickup or drop-off point) starts with a unique label. During each iteration, a location updates its label to match the most frequent label among its connected locations (other places frequently visited by taxis from there). Over time, locations with frequent and shared trip patterns form communities, representing clusters of areas with strong connectivity. The process continues for a set number of iterations (e.g., 100) or until labels stabilize, helping uncover regions with closely linked taxi traffic flows."
   ]
  },
  {
   "cell_type": "code",
   "execution_count": 0,
   "metadata": {
    "application/vnd.databricks.v1+cell": {
     "cellMetadata": {
      "byteLimit": 2048000,
      "rowLimit": 10000
     },
     "inputWidgets": {},
     "nuid": "9c1e7d47-3ae2-49e7-8a56-d683638f63e2",
     "showTitle": false,
     "tableResultSettingsMap": {},
     "title": ""
    }
   },
   "outputs": [],
   "source": [
    "label_propagation_results = gtd.labelPropagation(\n",
    "    maxIter=10\n",
    ")  # Apply label propagation to the graphframe"
   ]
  },
  {
   "cell_type": "code",
   "execution_count": 0,
   "metadata": {
    "application/vnd.databricks.v1+cell": {
     "cellMetadata": {
      "byteLimit": 2048000,
      "rowLimit": 10000
     },
     "inputWidgets": {},
     "nuid": "e27930f3-fa59-4a8c-a027-b5e960af4afa",
     "showTitle": false,
     "tableResultSettingsMap": {},
     "title": ""
    }
   },
   "outputs": [],
   "source": [
    "display(label_propagation_results)"
   ]
  },
  {
   "cell_type": "markdown",
   "metadata": {
    "application/vnd.databricks.v1+cell": {
     "cellMetadata": {},
     "inputWidgets": {},
     "nuid": "228f4b0e-694d-49ed-b4d4-87732aae3230",
     "showTitle": false,
     "tableResultSettingsMap": {},
     "title": ""
    }
   },
   "source": [
    "**All zones are strongly interconnected to each other with exceptions of:**\n",
    "- Rikers Island (correctional facility).\n",
    "- Great Kills Park (wildlife park).\n",
    "- Saint Michaels Cemetery/Woodside."
   ]
  },
  {
   "cell_type": "markdown",
   "metadata": {
    "application/vnd.databricks.v1+cell": {
     "cellMetadata": {},
     "inputWidgets": {},
     "nuid": "fb0cfc50-65cd-4307-a0a2-4a7dbfd3c9a3",
     "showTitle": false,
     "tableResultSettingsMap": {},
     "title": ""
    }
   },
   "source": [
    "**Strongly Connected Zones:**"
   ]
  },
  {
   "cell_type": "code",
   "execution_count": 0,
   "metadata": {
    "application/vnd.databricks.v1+cell": {
     "cellMetadata": {
      "byteLimit": 2048000,
      "rowLimit": 10000
     },
     "inputWidgets": {},
     "nuid": "462a07a6-e5e4-4c6e-8a4e-cab3c3d8e6c5",
     "showTitle": false,
     "tableResultSettingsMap": {},
     "title": ""
    }
   },
   "outputs": [],
   "source": [
    "strong_components_td = gtd.stronglyConnectedComponents(maxIter=10)\n",
    "display(strong_components_td.select(\"id\", \"component\").orderBy(\"component\"))"
   ]
  },
  {
   "cell_type": "markdown",
   "metadata": {
    "application/vnd.databricks.v1+cell": {
     "cellMetadata": {
      "byteLimit": 2048000,
      "rowLimit": 10000
     },
     "inputWidgets": {},
     "nuid": "196518c3-461d-45da-aed1-453e1930cfcb",
     "showTitle": false,
     "tableResultSettingsMap": {},
     "title": ""
    }
   },
   "source": [
    "**Most commmon trip paths:**"
   ]
  },
  {
   "cell_type": "code",
   "execution_count": 0,
   "metadata": {
    "application/vnd.databricks.v1+cell": {
     "cellMetadata": {
      "byteLimit": 2048000,
      "rowLimit": 10000
     },
     "inputWidgets": {},
     "nuid": "a05d0cb3-904f-4736-ade5-3dd1355bb72d",
     "showTitle": false,
     "tableResultSettingsMap": {},
     "title": ""
    }
   },
   "outputs": [],
   "source": [
    "tripEdgesSum = tripEdges.groupBy(\n",
    "    tripEdges.src, tripEdges.dst\n",
    ").count()  # DataFrame for trips with the total number of that specific trip\n",
    "\n",
    "tripEdgesSum = tripEdgesSum.withColumnRenamed(\n",
    "    \"count\", \"value\"\n",
    ")  # When using it for visualizations like a Sankey diagram\n",
    "\n",
    "display(tripEdgesSum.orderBy(\"value\", ascending=False).limit(50))"
   ]
  },
  {
   "cell_type": "markdown",
   "metadata": {
    "application/vnd.databricks.v1+cell": {
     "cellMetadata": {},
     "inputWidgets": {},
     "nuid": "217f65ce-47a6-4d56-a39a-bbbcaea450d4",
     "showTitle": false,
     "tableResultSettingsMap": {},
     "title": ""
    }
   },
   "source": [
    "**Searching for structural patterns in a graph**\n",
    "\n",
    "Ex. Trips from JFK Airport to Staten Island "
   ]
  },
  {
   "cell_type": "code",
   "execution_count": 0,
   "metadata": {
    "application/vnd.databricks.v1+cell": {
     "cellMetadata": {
      "byteLimit": 2048000,
      "rowLimit": 10000
     },
     "inputWidgets": {},
     "nuid": "92271dd1-4b24-4e08-9aeb-c928471f8725",
     "showTitle": false,
     "tableResultSettingsMap": {},
     "title": ""
    }
   },
   "outputs": [],
   "source": [
    "# Find all edges where there is a directed relationship from node 'a' to node 'b'\n",
    "motiftd = gtd.find(\"(a)-[]->(b)\")\n",
    "filteredtd = motiftd.filter(\"a.id = 'JFK Airport' AND b.Borough = 'Staten Island'\")\n",
    "display(filteredtd)"
   ]
  },
  {
   "cell_type": "markdown",
   "metadata": {
    "application/vnd.databricks.v1+cell": {
     "cellMetadata": {},
     "inputWidgets": {},
     "nuid": "0ac8d8db-3010-47e5-bf74-a5de1524006f",
     "showTitle": false,
     "tableResultSettingsMap": {},
     "title": ""
    }
   },
   "source": [
    "**Shortest Paths:**\n",
    "\n",
    "Ex. From JFK to the rest of locations in NYC "
   ]
  },
  {
   "cell_type": "code",
   "execution_count": 0,
   "metadata": {
    "application/vnd.databricks.v1+cell": {
     "cellMetadata": {
      "byteLimit": 2048000,
      "rowLimit": 10000
     },
     "inputWidgets": {},
     "nuid": "f4c94899-3c5c-47cd-b556-0d09a74ee699",
     "showTitle": false,
     "tableResultSettingsMap": {},
     "title": ""
    }
   },
   "outputs": [],
   "source": [
    "# Define source vertice and compute the shortest paths from source vertices to all other vertices\n",
    "shortest_paths_td = gtd.shortestPaths(landmarks=[\"JFK Airport\"])\n",
    "\n",
    "# Display the nodes and their shortest paths to the source vertices\n",
    "display(shortest_paths_td.select(\"id\", \"distances\").orderBy(\"id\"))"
   ]
  },
  {
   "cell_type": "markdown",
   "metadata": {
    "application/vnd.databricks.v1+cell": {
     "cellMetadata": {},
     "inputWidgets": {},
     "nuid": "38376015-c6a0-46cf-bbd5-b6002474565c",
     "showTitle": false,
     "tableResultSettingsMap": {},
     "title": ""
    }
   },
   "source": [
    "* {} means that there is no path from JFK Airport to the location\n",
    "* {1} Means that the location is directly connected to JFK Airport\n",
    "* {2} Means that the location is 2 hops away from JFK Airport"
   ]
  },
  {
   "cell_type": "markdown",
   "metadata": {
    "application/vnd.databricks.v1+cell": {
     "cellMetadata": {
      "byteLimit": 2048000,
      "rowLimit": 10000
     },
     "inputWidgets": {},
     "nuid": "2904c9e8-1a62-4bbf-8101-f3554fe04efe",
     "showTitle": false,
     "tableResultSettingsMap": {},
     "title": ""
    }
   },
   "source": [
    "**Identify Popular/Important Locations using indegree and out:**"
   ]
  },
  {
   "cell_type": "code",
   "execution_count": 0,
   "metadata": {
    "application/vnd.databricks.v1+cell": {
     "cellMetadata": {
      "byteLimit": 2048000,
      "rowLimit": 10000
     },
     "inputWidgets": {},
     "nuid": "563abffe-2616-401f-9fc4-2196b202000b",
     "showTitle": false,
     "tableResultSettingsMap": {},
     "title": ""
    }
   },
   "outputs": [],
   "source": [
    "gtdOut = gtd.outDegrees  # Number of outgoing edges for each vertex in the graph\n",
    "gtdIn = gtd.inDegrees  # Number of ingoing edges for each vertex in the graph\n",
    "\n",
    "gtdJoin = gtdIn.join(gtdOut, [\"id\"])\n",
    "\n",
    "# Calculate the ratio of in-degree to out-degree for each vertex (zone)\n",
    "gtdDeg = gtdJoin.withColumn(\"Ratio\", col(\"inDegree\") / col(\"outDegree\"))"
   ]
  },
  {
   "cell_type": "code",
   "execution_count": 0,
   "metadata": {
    "application/vnd.databricks.v1+cell": {
     "cellMetadata": {
      "byteLimit": 2048000,
      "rowLimit": 10000
     },
     "inputWidgets": {},
     "nuid": "5ffdcbd8-528e-473e-a6b5-f77624802bad",
     "showTitle": false,
     "tableResultSettingsMap": {},
     "title": ""
    }
   },
   "outputs": [],
   "source": [
    "display(gtdIn.orderBy(\"inDegree\", ascending=False))"
   ]
  },
  {
   "cell_type": "code",
   "execution_count": 0,
   "metadata": {
    "application/vnd.databricks.v1+cell": {
     "cellMetadata": {
      "byteLimit": 2048000,
      "rowLimit": 10000
     },
     "inputWidgets": {},
     "nuid": "fc5cba74-7086-46b4-8660-685f093bd067",
     "showTitle": false,
     "tableResultSettingsMap": {},
     "title": ""
    }
   },
   "outputs": [],
   "source": [
    "display(gtdOut.orderBy(\"outDegree\", ascending=False))"
   ]
  },
  {
   "cell_type": "code",
   "execution_count": 0,
   "metadata": {
    "application/vnd.databricks.v1+cell": {
     "cellMetadata": {
      "byteLimit": 2048000,
      "rowLimit": 10000
     },
     "inputWidgets": {},
     "nuid": "305f64c9-44aa-465b-82cb-c1f61c5e0ad6",
     "showTitle": false,
     "tableResultSettingsMap": {},
     "title": ""
    }
   },
   "outputs": [],
   "source": [
    "display(gtdDeg.orderBy(\"Ratio\", ascending=False))"
   ]
  },
  {
   "cell_type": "markdown",
   "metadata": {
    "application/vnd.databricks.v1+cell": {
     "cellMetadata": {},
     "inputWidgets": {},
     "nuid": "a6a9cedf-ffe5-4024-8bb6-044cc7fee32a",
     "showTitle": false,
     "tableResultSettingsMap": {},
     "title": ""
    }
   },
   "source": [
    "**Trips between Boroughs:**"
   ]
  },
  {
   "cell_type": "code",
   "execution_count": 0,
   "metadata": {
    "application/vnd.databricks.v1+cell": {
     "cellMetadata": {
      "byteLimit": 2048000,
      "rowLimit": 10000
     },
     "inputWidgets": {},
     "nuid": "f029fcdb-4282-4cb6-a73c-c8da2925327f",
     "showTitle": false,
     "tableResultSettingsMap": {},
     "title": ""
    }
   },
   "outputs": [],
   "source": [
    "tripEdges_borough = yellow_taxis_dec.withColumnRenamed(\n",
    "    \"PUBorough\", \"src\"\n",
    ").withColumnRenamed(\n",
    "    \"DOBorough\", \"dst\"\n",
    ")  # Rename the \"PUBorough\" column to typically named \"src\" and \"DOBorough\" to typically \"dst\"\n",
    "\n",
    "gtd_boroughs = GraphFrame(\n",
    "    zone_Vertices, tripEdges_borough\n",
    ")  # Create a graphframe for the whole month of december"
   ]
  },
  {
   "cell_type": "code",
   "execution_count": 0,
   "metadata": {
    "application/vnd.databricks.v1+cell": {
     "cellMetadata": {
      "byteLimit": 2048000,
      "rowLimit": 10000
     },
     "inputWidgets": {},
     "nuid": "a0494c81-eb04-424e-91de-55e81b76b386",
     "showTitle": false,
     "tableResultSettingsMap": {},
     "title": ""
    }
   },
   "outputs": [],
   "source": [
    "# Group by 'src' and 'dst' and count the number of trips between each source and destination with the alias of weight\n",
    "tripEdges_weighted = tripEdges_borough.groupBy(\"src\", \"dst\").agg(\n",
    "    count(\"*\").alias(\"weight\")\n",
    ")\n",
    "\n",
    "# Calculate total connections for each node\n",
    "out_degrees = tripEdges_borough.groupBy(\"src\").agg(count(\"dst\").alias(\"outDegree\"))\n",
    "in_degrees = tripEdges_borough.groupBy(\"dst\").agg(count(\"src\").alias(\"inDegree\"))\n",
    "\n",
    "# Combine in-degree and out-degree\n",
    "degrees = (\n",
    "    in_degrees.join(out_degrees, in_degrees.dst == out_degrees.src, \"full_outer\")\n",
    "    .withColumn(\"id\", col(\"dst\").alias(\"zone_id\"))\n",
    "    .fillna(0)\n",
    "    .withColumn(\"totalDegree\", col(\"inDegree\") + col(\"outDegree\"))\n",
    ")\n",
    "\n",
    "# Create GraphFrame\n",
    "graph = GraphFrame(zone_Vertices, tripEdges_weighted)\n",
    "\n",
    "# Convert vertices and edges to Pandas DataFrames\n",
    "nodes_df = degrees.select(\"id\", \"totalDegree\").toPandas()\n",
    "edges_df = tripEdges_weighted.toPandas()\n",
    "\n",
    "# Create a NetworkX graph\n",
    "G = nx.DiGraph()\n",
    "\n",
    "# Filter out any rows where 'id' is None or NaN\n",
    "nodes_df = nodes_df.dropna(subset=[\"id\"])\n",
    "\n",
    "# Add nodes with their total degree\n",
    "for _, row in nodes_df.iterrows():\n",
    "    # Ensure the ID is not None\n",
    "    if row[\"id\"] is not None:\n",
    "        G.add_node(row[\"id\"], label=f'{row[\"id\"]}\\n{int(row[\"totalDegree\"])}')\n",
    "\n",
    "# Add edges\n",
    "for _, row in edges_df.iterrows():\n",
    "    # Ensure the nodes exist before adding the edge\n",
    "    if row[\"src\"] in G and row[\"dst\"] in G:\n",
    "        G.add_edge(row[\"src\"], row[\"dst\"])\n",
    "\n",
    "nodes_df[\"totalDegree\"] = nodes_df[\"totalDegree\"].astype(\n",
    "    float\n",
    ")  # Convert to float for proportional sizing\n",
    "\n",
    "# Normalize node sizes to a reasonable range\n",
    "min_size = 600  # Minimum size for nodes\n",
    "max_size = 6000  # Maximum size for nodes\n",
    "\n",
    "# Calculate normalized sizes\n",
    "degrees = nodes_df[\"totalDegree\"]\n",
    "normalized_sizes = min_size + (\n",
    "    (degrees - degrees.min()) / (degrees.max() - degrees.min())\n",
    ") * (\n",
    "    max_size - min_size\n",
    ")  # Scale 'degrees' to fit within the range [min_size, max_size]\n",
    "node_sizes = dict(\n",
    "    zip(nodes_df[\"id\"], normalized_sizes)\n",
    ")  # Create a mapping of node IDs to sizes\n",
    "\n",
    "# Visualize the graph\n",
    "plt.figure(figsize=(15, 10))\n",
    "pos = nx.spring_layout(G, k=0.9, iterations=200)  # Force-directed layout\n",
    "\n",
    "# Draw nodes with normalized sizes\n",
    "nx.draw_networkx_nodes(\n",
    "    G,\n",
    "    pos,\n",
    "    node_size=[\n",
    "        node_sizes[node] if node in node_sizes else min_size for node in G.nodes\n",
    "    ],\n",
    "    node_color=\"lightblue\",\n",
    "    alpha=0.9,\n",
    ")\n",
    "\n",
    "# Draw edges\n",
    "nx.draw_networkx_edges(\n",
    "    G, pos, arrowstyle=\"->\", arrowsize=10, edge_color=\"gray\", alpha=0.7\n",
    ")\n",
    "\n",
    "# Add labels (ID and degree inside the circle)\n",
    "labels = nx.get_node_attributes(G, \"label\")\n",
    "nx.draw_networkx_labels(\n",
    "    G, pos, labels, font_size=10, font_color=\"black\", font_weight=\"bold\"\n",
    ")\n",
    "\n",
    "plt.title(\"Taxi Zone Connections: Boroughs and Total Connections\")\n",
    "plt.axis(\"off\")\n",
    "plt.show()"
   ]
  },
  {
   "cell_type": "markdown",
   "metadata": {
    "application/vnd.databricks.v1+cell": {
     "cellMetadata": {},
     "inputWidgets": {},
     "nuid": "71da8286-031e-423c-aba0-0dc3c62491f5",
     "showTitle": false,
     "tableResultSettingsMap": {},
     "title": ""
    }
   },
   "source": [
    "*EWR = Newark Airport"
   ]
  },
  {
   "cell_type": "markdown",
   "metadata": {
    "application/vnd.databricks.v1+cell": {
     "cellMetadata": {},
     "inputWidgets": {},
     "nuid": "f44e89fb-e818-4651-8a5d-b1225d238cd7",
     "showTitle": false,
     "tableResultSettingsMap": {},
     "title": ""
    }
   },
   "source": [
    "**From the GrapFrame of the whole month we can conclude that:**\n",
    "1. People that use taxis are in it’s majority High-income individuals which circulate between high cost living places and shopping areas.\n",
    "2. High-Cost living places and shopping zones are the most important areas (Page Rank).\n",
    "3. All zones are strongly interconnected with exception to very specific zones (Label Propagation).\n",
    "4. High cost living places and tourists areas are the ones with higher centrality (indegree).\n",
    "5. Transportations hubs appear in top 10 (outdegree).\n",
    "6. There are no direct trips between Staten Island and Newark Airport (Probably due to the usage of private transportation).\n",
    "7. There are no direct trips between Bronx and Newark Airport (Due to its proximity to LaGuardia Airport).\n",
    "8. There are no direct trips between Staten Island and Bronx (Probably due to the big distance)."
   ]
  },
  {
   "cell_type": "markdown",
   "metadata": {
    "application/vnd.databricks.v1+cell": {
     "cellMetadata": {},
     "inputWidgets": {},
     "nuid": "3ad6cac0-59f3-4a8a-8213-a36ff16170e4",
     "showTitle": false,
     "tableResultSettingsMap": {},
     "title": ""
    }
   },
   "source": [
    "-----"
   ]
  },
  {
   "cell_type": "markdown",
   "metadata": {
    "application/vnd.databricks.v1+cell": {
     "cellMetadata": {
      "byteLimit": 2048000,
      "rowLimit": 10000
     },
     "inputWidgets": {},
     "nuid": "24703ddc-d7a3-4185-aaa1-cbe81c1048b1",
     "showTitle": false,
     "tableResultSettingsMap": {},
     "title": ""
    }
   },
   "source": [
    "## Graph Analysis for Christmas Eve as 25th has a low usage\n"
   ]
  },
  {
   "cell_type": "code",
   "execution_count": 0,
   "metadata": {
    "application/vnd.databricks.v1+cell": {
     "cellMetadata": {
      "byteLimit": 2048000,
      "rowLimit": 10000
     },
     "inputWidgets": {},
     "nuid": "0d70ec18-991d-4ef1-a391-cfa5689e6433",
     "showTitle": false,
     "tableResultSettingsMap": {},
     "title": ""
    }
   },
   "outputs": [],
   "source": [
    "# Filter rows where the pickup date is Christmas Eve (2023-12-24)\n",
    "christmas_yellow_taxis = yellow_taxis_dec.filter(\n",
    "    to_date(col(\"tpep_pickup_datetime\")) == \"2023-12-24\"\n",
    ")\n",
    "\n",
    "# Write the filtered data to a Parquet file named 'christmas_day_rows.parquet',\n",
    "christmas_yellow_taxis.write.mode(\"overwrite\").parquet(\"christmas_day_rows.parquet\")\n",
    "\n",
    "display(christmas_yellow_taxis)"
   ]
  },
  {
   "cell_type": "code",
   "execution_count": 0,
   "metadata": {
    "application/vnd.databricks.v1+cell": {
     "cellMetadata": {
      "byteLimit": 2048000,
      "rowLimit": 10000
     },
     "inputWidgets": {},
     "nuid": "4ac81302-cc81-4447-bdb0-5f78c1604e39",
     "showTitle": false,
     "tableResultSettingsMap": {},
     "title": ""
    }
   },
   "outputs": [],
   "source": [
    "tripEdges_christmas = christmas_yellow_taxis.withColumnRenamed(\n",
    "    \"PUZone\", \"src\"\n",
    ").withColumnRenamed(\n",
    "    \"DOZone\", \"dst\"\n",
    ")  # Rename the \"PUZone\" column to typically named \"src\" and \"DOZone\" to typically \"dst\"\n",
    "display(tripEdges_christmas)"
   ]
  },
  {
   "cell_type": "markdown",
   "metadata": {
    "application/vnd.databricks.v1+cell": {
     "cellMetadata": {},
     "inputWidgets": {},
     "nuid": "f195cea4-7e4b-40dd-ae18-9fb5f0cb0830",
     "showTitle": false,
     "tableResultSettingsMap": {},
     "title": ""
    }
   },
   "source": [
    "**GraphFrame of christmas using subgraph:**"
   ]
  },
  {
   "cell_type": "code",
   "execution_count": 0,
   "metadata": {
    "application/vnd.databricks.v1+cell": {
     "cellMetadata": {
      "byteLimit": 2048000,
      "rowLimit": 10000
     },
     "inputWidgets": {},
     "nuid": "1c0dd4e5-cdad-470d-b751-9567a8dde913",
     "showTitle": false,
     "tableResultSettingsMap": {},
     "title": ""
    }
   },
   "outputs": [],
   "source": [
    "gtd_christmas = gtd.filterEdges(\n",
    "    to_date(col(\"tpep_pickup_datetime\")) == \"2023-12-24\"\n",
    ")  # Filter the original graphframe to just have rows of 24th"
   ]
  },
  {
   "cell_type": "markdown",
   "metadata": {
    "application/vnd.databricks.v1+cell": {
     "cellMetadata": {},
     "inputWidgets": {},
     "nuid": "a522ead2-a45e-4829-b968-4c112798238a",
     "showTitle": false,
     "tableResultSettingsMap": {},
     "title": ""
    }
   },
   "source": [
    "**Importance of a zone accounting for the quantity and quality of connections pointing to it using PageRank:**"
   ]
  },
  {
   "cell_type": "code",
   "execution_count": 0,
   "metadata": {
    "application/vnd.databricks.v1+cell": {
     "cellMetadata": {
      "byteLimit": 2048000,
      "rowLimit": 10000
     },
     "inputWidgets": {},
     "nuid": "4d116d8c-7b76-4e21-8224-9886187fa7d3",
     "showTitle": false,
     "tableResultSettingsMap": {},
     "title": ""
    }
   },
   "outputs": [],
   "source": [
    "pageRanks_christmas = gtd_christmas.pageRank(\n",
    "    resetProbability=0.15, tol=0.01\n",
    ")  # Apply pagerank to the graphframe with a bound on the error in the computation"
   ]
  },
  {
   "cell_type": "code",
   "execution_count": 0,
   "metadata": {
    "application/vnd.databricks.v1+cell": {
     "cellMetadata": {
      "byteLimit": 2048000,
      "rowLimit": 10000
     },
     "inputWidgets": {},
     "nuid": "c81c2922-ac15-4810-b1ad-fb353dfde805",
     "showTitle": false,
     "tableResultSettingsMap": {},
     "title": ""
    }
   },
   "outputs": [],
   "source": [
    "display(pageRanks_christmas.vertices.orderBy(\"pagerank\", ascending=False))"
   ]
  },
  {
   "cell_type": "markdown",
   "metadata": {
    "application/vnd.databricks.v1+cell": {
     "cellMetadata": {},
     "inputWidgets": {},
     "nuid": "875f8eec-f210-47d4-ae34-9cd112075eef",
     "showTitle": false,
     "tableResultSettingsMap": {},
     "title": ""
    }
   },
   "source": [
    "**Identify clusters of areas that are strongly interconnected based on trip data:**"
   ]
  },
  {
   "cell_type": "code",
   "execution_count": 0,
   "metadata": {
    "application/vnd.databricks.v1+cell": {
     "cellMetadata": {
      "byteLimit": 2048000,
      "rowLimit": 10000
     },
     "inputWidgets": {},
     "nuid": "109e639e-148e-425c-9809-830c725f46ec",
     "showTitle": false,
     "tableResultSettingsMap": {},
     "title": ""
    }
   },
   "outputs": [],
   "source": [
    "label_propagation_results_christmas = gtd_christmas.labelPropagation(\n",
    "    maxIter=10\n",
    ")  # Apply label propagation to the graphframe"
   ]
  },
  {
   "cell_type": "code",
   "execution_count": 0,
   "metadata": {
    "application/vnd.databricks.v1+cell": {
     "cellMetadata": {
      "byteLimit": 2048000,
      "rowLimit": 10000
     },
     "inputWidgets": {},
     "nuid": "28e161b9-9c61-430e-9f3a-7d780979124c",
     "showTitle": false,
     "tableResultSettingsMap": {},
     "title": ""
    }
   },
   "outputs": [],
   "source": [
    "display(label_propagation_results_christmas)"
   ]
  },
  {
   "cell_type": "markdown",
   "metadata": {
    "application/vnd.databricks.v1+cell": {
     "cellMetadata": {},
     "inputWidgets": {},
     "nuid": "7af32853-0e95-48ad-aadf-b531be7cd079",
     "showTitle": false,
     "tableResultSettingsMap": {},
     "title": ""
    }
   },
   "source": [
    "**Most common trip paths:**"
   ]
  },
  {
   "cell_type": "code",
   "execution_count": 0,
   "metadata": {
    "application/vnd.databricks.v1+cell": {
     "cellMetadata": {
      "byteLimit": 2048000,
      "rowLimit": 10000
     },
     "inputWidgets": {},
     "nuid": "042febb6-b4a2-4e46-9de4-81b059e794c8",
     "showTitle": false,
     "tableResultSettingsMap": {},
     "title": ""
    }
   },
   "outputs": [],
   "source": [
    "tripEdgesSumChristmas = tripEdges_christmas.groupBy(\n",
    "    tripEdges_christmas.src, tripEdges_christmas.dst\n",
    ").count()  # DataFrame for trips with the total number of that specific trip\n",
    "tripEdgesSumChristmas = tripEdgesSumChristmas.withColumnRenamed(\n",
    "    \"count\", \"value\"\n",
    ")  # When using it for visualizations like a Sankey diagram\n",
    "display(tripEdgesSumChristmas.orderBy(\"value\", ascending=False).limit(50))"
   ]
  },
  {
   "cell_type": "markdown",
   "metadata": {
    "application/vnd.databricks.v1+cell": {
     "cellMetadata": {},
     "inputWidgets": {},
     "nuid": "87a9f227-04f1-493e-a69b-293b5aeff7ab",
     "showTitle": false,
     "tableResultSettingsMap": {},
     "title": ""
    }
   },
   "source": [
    "**Identify Popular/Important Locations using indegree and out:**"
   ]
  },
  {
   "cell_type": "code",
   "execution_count": 0,
   "metadata": {
    "application/vnd.databricks.v1+cell": {
     "cellMetadata": {
      "byteLimit": 2048000,
      "rowLimit": 10000
     },
     "inputWidgets": {},
     "nuid": "6e5a5731-6c2e-489e-b73c-ac000102f16f",
     "showTitle": false,
     "tableResultSettingsMap": {},
     "title": ""
    }
   },
   "outputs": [],
   "source": [
    "gtdOut_christmas = (\n",
    "    gtd_christmas.outDegrees\n",
    ")  # Number of outgoing edges for each vertex in the graph\n",
    "gtdIn_christmas = (\n",
    "    gtd_christmas.inDegrees\n",
    ")  # Number of ingoing edges for each vertex in the graph\n",
    "\n",
    "gtdJoin_christmas = gtdIn_christmas.join(gtdOut_christmas, [\"id\"])\n",
    "\n",
    "# Calculate the ratio of in-degree to out-degree for each vertex (zone)\n",
    "gtdDeg_christmas = gtdJoin_christmas.withColumn(\n",
    "    \"Ratio\", col(\"inDegree\") / col(\"outDegree\")\n",
    ")"
   ]
  },
  {
   "cell_type": "code",
   "execution_count": 0,
   "metadata": {
    "application/vnd.databricks.v1+cell": {
     "cellMetadata": {
      "byteLimit": 2048000,
      "rowLimit": 10000
     },
     "inputWidgets": {},
     "nuid": "445403c3-dce1-48cc-883b-ce3d4dc80481",
     "showTitle": false,
     "tableResultSettingsMap": {},
     "title": ""
    }
   },
   "outputs": [],
   "source": [
    "display(gtdIn_christmas.orderBy(\"inDegree\", ascending=False))"
   ]
  },
  {
   "cell_type": "code",
   "execution_count": 0,
   "metadata": {
    "application/vnd.databricks.v1+cell": {
     "cellMetadata": {
      "byteLimit": 2048000,
      "rowLimit": 10000
     },
     "inputWidgets": {},
     "nuid": "1f42c0cb-9b90-46f3-baba-b156ecbc06c5",
     "showTitle": false,
     "tableResultSettingsMap": {},
     "title": ""
    }
   },
   "outputs": [],
   "source": [
    "display(gtdOut_christmas.orderBy(\"outDegree\", ascending=False))"
   ]
  },
  {
   "cell_type": "code",
   "execution_count": 0,
   "metadata": {
    "application/vnd.databricks.v1+cell": {
     "cellMetadata": {
      "byteLimit": 2048000,
      "rowLimit": 10000
     },
     "inputWidgets": {},
     "nuid": "0a5020bf-94f2-4e98-934a-200644de0711",
     "showTitle": false,
     "tableResultSettingsMap": {},
     "title": ""
    }
   },
   "outputs": [],
   "source": [
    "display(gtdDeg_christmas.orderBy(\"Ratio\", ascending=False))"
   ]
  },
  {
   "cell_type": "markdown",
   "metadata": {
    "application/vnd.databricks.v1+cell": {
     "cellMetadata": {},
     "inputWidgets": {},
     "nuid": "807af20a-ab59-463b-92f0-3f0b5e7f4831",
     "showTitle": false,
     "tableResultSettingsMap": {},
     "title": ""
    }
   },
   "source": [
    "**From the GrapFrame of the 24th of December we can conclude that:**\n",
    "1. Newark Airport appear in top 5 because of High Volume of Holiday travels and airline company’s tend to have more flights scheduled around Christmas (PageRank)\n",
    "2. Zones are strongly interconnected with exception of Staten Island, that is the Borough that has the most unique values in label \n",
    "3. High-income individuals circulate between high cost living places \n",
    "4. JFK has a strong trip path to Time sq/Theatre District (Tourist and Hotel Areas)\n",
    "5. Midtown Center and Times square appear in 3rd and 4th probably because of late Christmas shopping and Rockefeller center (Indegree)\n",
    "6. JFK appears in top 4 meaning arrivals for Christmas celebrations (Outdegree)"
   ]
  },
  {
   "cell_type": "markdown",
   "metadata": {
    "application/vnd.databricks.v1+cell": {
     "cellMetadata": {},
     "inputWidgets": {},
     "nuid": "83b09671-4333-4ae3-8ace-70f1cbad625f",
     "showTitle": false,
     "tableResultSettingsMap": {},
     "title": ""
    }
   },
   "source": [
    "-----"
   ]
  },
  {
   "cell_type": "markdown",
   "metadata": {
    "application/vnd.databricks.v1+cell": {
     "cellMetadata": {
      "byteLimit": 2048000,
      "rowLimit": 10000
     },
     "inputWidgets": {},
     "nuid": "db074b04-4fdc-4919-9f8c-be1b105f3ace",
     "showTitle": false,
     "tableResultSettingsMap": {},
     "title": ""
    }
   },
   "source": [
    "## Graph Analysis for the New Year's eve"
   ]
  },
  {
   "cell_type": "code",
   "execution_count": 0,
   "metadata": {
    "application/vnd.databricks.v1+cell": {
     "cellMetadata": {
      "byteLimit": 2048000,
      "rowLimit": 10000
     },
     "inputWidgets": {},
     "nuid": "dc18e4ec-9ec4-4db2-b285-85aa69eea33a",
     "showTitle": false,
     "tableResultSettingsMap": {},
     "title": ""
    }
   },
   "outputs": [],
   "source": [
    "# Filter rows where the pickup date is New Year's Eve (2023-12-31)\n",
    "newyear_yellow_taxis = yellow_taxis_dec.filter(\n",
    "    to_date(col(\"tpep_pickup_datetime\")) == \"2023-12-31\"\n",
    ")\n",
    "\n",
    "# Write the filtered data to a Parquet file named 'christmas_day_rows.parquet',\n",
    "newyear_yellow_taxis.write.mode(\"overwrite\").parquet(\"christmas_day_rows.parquet\")\n",
    "\n",
    "display(newyear_yellow_taxis)"
   ]
  },
  {
   "cell_type": "code",
   "execution_count": 0,
   "metadata": {
    "application/vnd.databricks.v1+cell": {
     "cellMetadata": {
      "byteLimit": 2048000,
      "rowLimit": 10000
     },
     "inputWidgets": {},
     "nuid": "f296986f-eb42-41d6-81eb-2d7c34474f29",
     "showTitle": false,
     "tableResultSettingsMap": {},
     "title": ""
    }
   },
   "outputs": [],
   "source": [
    "tripEdges_newyear = newyear_yellow_taxis.withColumnRenamed(\n",
    "    \"PUzone\", \"src\"\n",
    ").withColumnRenamed(\n",
    "    \"DOzone\", \"dst\"\n",
    ")  # Rename the \"PUZone\" column to typically named \"src\" and \"DOZone\" to typically \"dst\"\n",
    "display(tripEdges_newyear)"
   ]
  },
  {
   "cell_type": "markdown",
   "metadata": {
    "application/vnd.databricks.v1+cell": {
     "cellMetadata": {},
     "inputWidgets": {},
     "nuid": "6639a469-ab84-40a2-a46e-4eec5bc11804",
     "showTitle": false,
     "tableResultSettingsMap": {},
     "title": ""
    }
   },
   "source": [
    "**GraphFrame of new years eve using subgraph:**"
   ]
  },
  {
   "cell_type": "code",
   "execution_count": 0,
   "metadata": {
    "application/vnd.databricks.v1+cell": {
     "cellMetadata": {
      "byteLimit": 2048000,
      "rowLimit": 10000
     },
     "inputWidgets": {},
     "nuid": "1717cdf7-11e8-4b77-bfce-a1a735b6c5bb",
     "showTitle": false,
     "tableResultSettingsMap": {},
     "title": ""
    }
   },
   "outputs": [],
   "source": [
    "gtd_newyear = gtd.filterEdges(\n",
    "    to_date(col(\"tpep_pickup_datetime\")) == \"2023-12-31\"\n",
    ")  # Filter the original graphframe to just have rows of 31st"
   ]
  },
  {
   "cell_type": "markdown",
   "metadata": {
    "application/vnd.databricks.v1+cell": {
     "cellMetadata": {},
     "inputWidgets": {},
     "nuid": "094bf39e-1bb9-4dd7-ba8d-4dcab273dc30",
     "showTitle": false,
     "tableResultSettingsMap": {},
     "title": ""
    }
   },
   "source": [
    "**Importance of a zone accounting for the quantity and quality of connections pointing to it using PageRank:**"
   ]
  },
  {
   "cell_type": "code",
   "execution_count": 0,
   "metadata": {
    "application/vnd.databricks.v1+cell": {
     "cellMetadata": {
      "byteLimit": 2048000,
      "rowLimit": 10000
     },
     "inputWidgets": {},
     "nuid": "9281fa3e-bee9-42bd-968f-ac5e051de362",
     "showTitle": false,
     "tableResultSettingsMap": {},
     "title": ""
    }
   },
   "outputs": [],
   "source": [
    "pageRanks_newyear = gtd_newyear.pageRank(\n",
    "    resetProbability=0.15, tol=0.01\n",
    ")  # Apply pagerank to the graphframe with a bound on the error in the computation"
   ]
  },
  {
   "cell_type": "code",
   "execution_count": 0,
   "metadata": {
    "application/vnd.databricks.v1+cell": {
     "cellMetadata": {
      "byteLimit": 2048000,
      "rowLimit": 10000
     },
     "inputWidgets": {},
     "nuid": "33f2d9da-c238-4d4e-91cb-31ed0b193d87",
     "showTitle": false,
     "tableResultSettingsMap": {},
     "title": ""
    }
   },
   "outputs": [],
   "source": [
    "display(pageRanks_newyear.vertices.orderBy(\"pagerank\", ascending=False))"
   ]
  },
  {
   "cell_type": "markdown",
   "metadata": {
    "application/vnd.databricks.v1+cell": {
     "cellMetadata": {},
     "inputWidgets": {},
     "nuid": "f472b223-f55e-4174-a524-230230a6b5a7",
     "showTitle": false,
     "tableResultSettingsMap": {},
     "title": ""
    }
   },
   "source": [
    "**Identify clusters of areas that are strongly interconnected based on trip data:**"
   ]
  },
  {
   "cell_type": "code",
   "execution_count": 0,
   "metadata": {
    "application/vnd.databricks.v1+cell": {
     "cellMetadata": {
      "byteLimit": 2048000,
      "rowLimit": 10000
     },
     "inputWidgets": {},
     "nuid": "981876c6-c992-4fe1-b0b8-cf21b28098d9",
     "showTitle": false,
     "tableResultSettingsMap": {},
     "title": ""
    }
   },
   "outputs": [],
   "source": [
    "label_propagation_results_newyear = gtd_newyear.labelPropagation(\n",
    "    maxIter=10\n",
    ")  # Apply label propagation to the graphframe"
   ]
  },
  {
   "cell_type": "code",
   "execution_count": 0,
   "metadata": {
    "application/vnd.databricks.v1+cell": {
     "cellMetadata": {
      "byteLimit": 2048000,
      "rowLimit": 10000
     },
     "inputWidgets": {},
     "nuid": "7ee8c8af-0c65-46f3-9d2f-c9bea15fb592",
     "showTitle": false,
     "tableResultSettingsMap": {},
     "title": ""
    }
   },
   "outputs": [],
   "source": [
    "display(label_propagation_results_newyear)"
   ]
  },
  {
   "cell_type": "markdown",
   "metadata": {
    "application/vnd.databricks.v1+cell": {
     "cellMetadata": {},
     "inputWidgets": {},
     "nuid": "68f191db-6900-4173-99d9-856a51b107b5",
     "showTitle": false,
     "tableResultSettingsMap": {},
     "title": ""
    }
   },
   "source": [
    "**Most common trip paths:**"
   ]
  },
  {
   "cell_type": "code",
   "execution_count": 0,
   "metadata": {
    "application/vnd.databricks.v1+cell": {
     "cellMetadata": {
      "byteLimit": 2048000,
      "rowLimit": 10000
     },
     "inputWidgets": {},
     "nuid": "c9cb4317-8dca-4cf6-87af-4f4639d7e824",
     "showTitle": false,
     "tableResultSettingsMap": {},
     "title": ""
    }
   },
   "outputs": [],
   "source": [
    "tripEdgesSumnewyear = tripEdges_newyear.groupBy(\n",
    "    tripEdges_newyear.src, tripEdges_newyear.dst\n",
    ").count()  # DataFrame for trips with the total number of that specific trip\n",
    "tripEdgesSumnewyear = tripEdgesSumnewyear.withColumnRenamed(\n",
    "    \"count\", \"value\"\n",
    ")  # When using it for visualizations like a Sankey diagram\n",
    "display(tripEdgesSumnewyear.orderBy(\"value\", ascending=False).limit(50))"
   ]
  },
  {
   "cell_type": "markdown",
   "metadata": {
    "application/vnd.databricks.v1+cell": {
     "cellMetadata": {},
     "inputWidgets": {},
     "nuid": "c0dbe298-ab4d-4f06-bae2-c555352efe07",
     "showTitle": false,
     "tableResultSettingsMap": {},
     "title": ""
    }
   },
   "source": [
    "**Identify Popular/Important Locations using indegree and out:**"
   ]
  },
  {
   "cell_type": "code",
   "execution_count": 0,
   "metadata": {
    "application/vnd.databricks.v1+cell": {
     "cellMetadata": {
      "byteLimit": 2048000,
      "rowLimit": 10000
     },
     "inputWidgets": {},
     "nuid": "05f5c1be-bf1f-45cf-9fc7-b326f9c306c7",
     "showTitle": false,
     "tableResultSettingsMap": {},
     "title": ""
    }
   },
   "outputs": [],
   "source": [
    "gtdOut_newyear = (\n",
    "    gtd_newyear.outDegrees\n",
    ")  # Number of outgoing edges for each vertex in the graph\n",
    "gtdIn_newyear = (\n",
    "    gtd_newyear.inDegrees\n",
    ")  # Number of ingoing edges for each vertex in the graph\n",
    "\n",
    "gtdJoin_newyear = gtdIn_newyear.join(gtdOut_newyear, [\"id\"])\n",
    "gtdDeg_newyear = gtdJoin.withColumn(\"Ratio\", col(\"inDegree\") / col(\"outDegree\"))"
   ]
  },
  {
   "cell_type": "code",
   "execution_count": 0,
   "metadata": {
    "application/vnd.databricks.v1+cell": {
     "cellMetadata": {
      "byteLimit": 2048000,
      "rowLimit": 10000
     },
     "inputWidgets": {},
     "nuid": "8205cce3-af1f-4ccc-8521-995f8aa74a84",
     "showTitle": false,
     "tableResultSettingsMap": {},
     "title": ""
    }
   },
   "outputs": [],
   "source": [
    "display(gtdIn_newyear.orderBy(\"inDegree\", ascending=False))"
   ]
  },
  {
   "cell_type": "code",
   "execution_count": 0,
   "metadata": {
    "application/vnd.databricks.v1+cell": {
     "cellMetadata": {
      "byteLimit": 2048000,
      "rowLimit": 10000
     },
     "inputWidgets": {},
     "nuid": "38c48424-17d1-4e2d-903a-f2d6df3b756f",
     "showTitle": false,
     "tableResultSettingsMap": {},
     "title": ""
    }
   },
   "outputs": [],
   "source": [
    "display(gtdOut_newyear.orderBy(\"outDegree\", ascending=False))"
   ]
  },
  {
   "cell_type": "code",
   "execution_count": 0,
   "metadata": {
    "application/vnd.databricks.v1+cell": {
     "cellMetadata": {
      "byteLimit": 2048000,
      "rowLimit": 10000
     },
     "inputWidgets": {},
     "nuid": "44da44a1-e42d-4ac1-bec2-e80065d55ace",
     "showTitle": false,
     "tableResultSettingsMap": {},
     "title": ""
    }
   },
   "outputs": [],
   "source": [
    "display(gtdDeg_newyear.orderBy(\"Ratio\", ascending=False))"
   ]
  },
  {
   "cell_type": "markdown",
   "metadata": {
    "application/vnd.databricks.v1+cell": {
     "cellMetadata": {},
     "inputWidgets": {},
     "nuid": "55d72d60-c811-4cd3-bc75-053fc59bd716",
     "showTitle": false,
     "tableResultSettingsMap": {},
     "title": ""
    }
   },
   "source": [
    "**From the GraphFrame Analysis of New Years Eve we can conclude that:**\n",
    "1. Midtown appears first probably because of it’s proximity to Times square for the Ball drop (PageRank).\n",
    "2. Top 10 trip paths only has connections between Upper Living Zones (Private Parties).\n",
    "3. JFK appears first, Laguardia 8th and Penn Station 9th due to arrivals for new years celebration (outdegree).\n",
    "4. Zones are strongly interconnected with exception of Staten Island, that is the Borough that has the most unique values in label."
   ]
  },
  {
   "cell_type": "markdown",
   "metadata": {
    "application/vnd.databricks.v1+cell": {
     "cellMetadata": {},
     "inputWidgets": {},
     "nuid": "144711df-0ac3-4d99-9d15-9fe622d9b239",
     "showTitle": false,
     "tableResultSettingsMap": {},
     "title": ""
    }
   },
   "source": [
    "-----"
   ]
  },
  {
   "cell_type": "markdown",
   "metadata": {
    "application/vnd.databricks.v1+cell": {
     "cellMetadata": {},
     "inputWidgets": {},
     "nuid": "05750572-a910-46a3-9f1e-5587bf052776",
     "showTitle": false,
     "tableResultSettingsMap": {},
     "title": ""
    }
   },
   "source": [
    "**General Insights:**\n",
    "- The upper east side is without any doubt the area that necessitates the most taxis.\n",
    "- Tourist areas also necessitate more taxis.\n",
    "- In holidays Tourist areas and Transportations hubs necessitate a strength in taxi numbers.\n",
    "- We can identify zones with different characteristics only from the taxi trips.\n",
    "- We can identify High-income individuals trip paths.\n",
    "- Staten Island differs from other boroughs because of its family residential demography.\n"
   ]
  },
  {
   "cell_type": "markdown",
   "metadata": {
    "application/vnd.databricks.v1+cell": {
     "cellMetadata": {},
     "inputWidgets": {},
     "nuid": "47c382a5-a658-4309-9e0d-8f271720e375",
     "showTitle": false,
     "tableResultSettingsMap": {},
     "title": ""
    }
   },
   "source": [
    "##Conclusion\n",
    "PySpark is an effective tool for analyzing large-scale taxi trip data due to its ability to process vast amounts of information efficiently. When combined with GraphFrames, it provides valuable insights into patterns and connections within the trip data.\n",
    "\n",
    "This approach facilitates the identification of high-traffic zones, analysis of airport connectivity, important zones and detection of underserved areas. Together, PySpark and GraphFrames offer a robust framework for analyzing millions of trips, making them highly useful for urban mobility studies and transportation planning."
   ]
  },
  {
   "cell_type": "markdown",
   "metadata": {
    "application/vnd.databricks.v1+cell": {
     "cellMetadata": {},
     "inputWidgets": {},
     "nuid": "525b16ff-ffa9-4a66-aae3-6727a1660ef6",
     "showTitle": false,
     "tableResultSettingsMap": {},
     "title": ""
    }
   },
   "source": [
    "##References\n"
   ]
  },
  {
   "cell_type": "markdown",
   "metadata": {
    "application/vnd.databricks.v1+cell": {
     "cellMetadata": {},
     "inputWidgets": {},
     "nuid": "978b7b46-872e-4b0a-b3bf-5f788a8c7952",
     "showTitle": false,
     "tableResultSettingsMap": {},
     "title": ""
    }
   },
   "source": [
    "https://graphframes.github.io/graphframes/docs/_site/user-guide.html#motif-finding"
   ]
  },
  {
   "cell_type": "markdown",
   "metadata": {
    "application/vnd.databricks.v1+cell": {
     "cellMetadata": {},
     "inputWidgets": {},
     "nuid": "96c2ce90-7ebc-4cce-9034-27971314c85a",
     "showTitle": false,
     "tableResultSettingsMap": {},
     "title": ""
    }
   },
   "source": [
    "https://medium.com/tomtalkspython/exploring-graphframes-in-pyspark-f948c9a39844"
   ]
  }
 ],
 "metadata": {
  "application/vnd.databricks.v1+notebook": {
   "computePreferences": null,
   "dashboards": [],
   "environmentMetadata": null,
   "language": "python",
   "notebookMetadata": {
    "mostRecentlyExecutedCommandWithImplicitDF": {
     "commandId": 1387836982927464,
     "dataframes": [
      "_sqldf"
     ]
    },
    "pythonIndentUnit": 4
   },
   "notebookName": "BDA PROJECT (GRAPH)",
   "widgets": {}
  }
 },
 "nbformat": 4,
 "nbformat_minor": 0
}
